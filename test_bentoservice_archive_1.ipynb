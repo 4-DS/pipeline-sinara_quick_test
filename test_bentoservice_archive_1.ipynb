{
 "cells": [
  {
   "cell_type": "markdown",
   "id": "58611768-b6e8-4205-b197-d840441ffc35",
   "metadata": {},
   "source": [
    "This is an analogue of model_pack step"
   ]
  },
  {
   "cell_type": "code",
   "execution_count": null,
   "id": "fc3b7972-c531-43fe-805c-f542e551ae92",
   "metadata": {},
   "outputs": [],
   "source": [
    "%load_ext autoreload\n",
    "%autoreload 2"
   ]
  },
  {
   "cell_type": "code",
   "execution_count": null,
   "id": "d158ca3d-bfd3-405a-871a-fa0b32ea19ab",
   "metadata": {
    "tags": [
     "parameters"
    ]
   },
   "outputs": [],
   "source": [
    "# Specify sub_step parameters\n",
    "substep_params={\n",
    "}"
   ]
  },
  {
   "cell_type": "code",
   "execution_count": null,
   "id": "5c056657-ddf0-4c6d-ac93-723ed878096f",
   "metadata": {},
   "outputs": [],
   "source": [
    "# load pipeline and step parameters - do not edit\n",
    "from sinara.substep import get_pipeline_params, get_step_params\n",
    "pipeline_params = get_pipeline_params(pprint=True)\n",
    "step_params = get_step_params(pprint=True)"
   ]
  },
  {
   "cell_type": "code",
   "execution_count": null,
   "id": "97079c2e-d9fa-4784-9d75-3263286a44a2",
   "metadata": {},
   "outputs": [],
   "source": [
    "# define substep interface\n",
    "from sinara.substep import NotebookSubstep, ENV_NAME, PIPELINE_NAME, ZONE_NAME, STEP_NAME, RUN_ID, ENTITY_NAME, ENTITY_PATH, SUBSTEP_NAME\n",
    "\n",
    "substep = NotebookSubstep(pipeline_params, step_params, substep_params)\n",
    "\n",
    "substep.interface(  \n",
    "    outputs =\n",
    "    [\n",
    "        { ENTITY_NAME: \"bento_service\" } # stored BentoService\n",
    "    ],\n",
    ")\n",
    "\n",
    "substep.print_interface_info()\n",
    "\n",
    "substep.exit_in_visualize_mode()"
   ]
  },
  {
   "cell_type": "code",
   "execution_count": null,
   "id": "63a59f01-9251-4b77-9743-2adb759df47a",
   "metadata": {
    "editable": true,
    "slideshow": {
     "slide_type": ""
    },
    "tags": []
   },
   "outputs": [],
   "source": [
    "# create artifacts archive\n",
    "from sinara.bentoml.bento_archive import BentoArchive\n",
    "\n",
    "outputs = substep.outputs()\n",
    "\n",
    "model_name = \"test_model\"\n",
    "model = b\"his is test for bentoservice archive\"\n",
    "bentoservice_version = \"0.0.1\"\n",
    "model_config = b\"{}\"\n",
    "\n",
    "# initialize bento service\n",
    "model_service = BentoArchive()\n",
    "model_service.pack('model_name', model_name)\n",
    "model_service.pack('model', model)\n",
    "model_service.pack('config', model_config)\n",
    "model_service.pack('service_version', bentoservice_version)"
   ]
  },
  {
   "cell_type": "code",
   "execution_count": null,
   "id": "974030a3-438c-427c-aec7-b35d0d83d950",
   "metadata": {},
   "outputs": [],
   "source": [
    "# save model as a bento pack\n",
    "from sinara.bentoml import save_bentoservice\n",
    "save_bentoservice(model_service, path=outputs.bento_service, service_version=\"test\")"
   ]
  }
 ],
 "metadata": {
  "kernelspec": {
   "display_name": "ml",
   "language": "python",
   "name": "python3"
  },
  "language_info": {
   "codemirror_mode": {
    "name": "ipython",
    "version": 3
   },
   "file_extension": ".py",
   "mimetype": "text/x-python",
   "name": "python",
   "nbconvert_exporter": "python",
   "pygments_lexer": "ipython3",
   "version": "3.10.12"
  }
 },
 "nbformat": 4,
 "nbformat_minor": 5
}
