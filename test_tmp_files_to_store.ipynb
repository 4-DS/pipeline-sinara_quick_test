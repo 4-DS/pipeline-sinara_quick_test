{
 "cells": [
  {
   "cell_type": "code",
   "execution_count": null,
   "id": "870a1090-f4ae-45a0-aa93-0960f5c6478d",
   "metadata": {
    "tags": []
   },
   "outputs": [],
   "source": [
    "%load_ext autoreload\n",
    "%autoreload 2"
   ]
  },
  {
   "cell_type": "code",
   "execution_count": null,
   "id": "453c78e8-6822-4123-bf9d-ed1ae9dd7bea",
   "metadata": {
    "tags": [
     "parameters"
    ]
   },
   "outputs": [],
   "source": [
    "# load pipeline and step parameters - do not edit\n",
    "from sinara.substep import get_pipeline_params, get_step_params\n",
    "pipeline_params = get_pipeline_params(pprint=True)\n",
    "step_params = get_step_params(pprint=True)"
   ]
  },
  {
   "cell_type": "code",
   "execution_count": null,
   "id": "f3818420-6085-43ea-b97e-578742794e1e",
   "metadata": {
    "tags": []
   },
   "outputs": [],
   "source": [
    "# define substep interface\n",
    "from sinara.substep import NotebookSubstep, ENV_NAME, PIPELINE_NAME, ZONE_NAME, STEP_NAME, RUN_ID, ENTITY_NAME, ENTITY_PATH, SUBSTEP_NAME\n",
    "\n",
    "substep = NotebookSubstep(pipeline_params, step_params, substep_params)\n",
    "\n",
    "substep.interface(\n",
    "    \n",
    "    outputs = \n",
    "    [\n",
    "        { ENTITY_NAME: \"entityTar\" }\n",
    "    ],\n",
    "   \n",
    "    tmp_outputs =\n",
    "    [\n",
    "        { ENTITY_NAME: \"tmp_entity_1\" },\n",
    "        \n",
    "        { ENTITY_NAME: \"tmp_entity_2\" }\n",
    "    ]\n",
    ")\n",
    "\n",
    "substep.print_interface_info()\n",
    "\n",
    "substep.exit_in_visualize_mode()"
   ]
  },
  {
   "cell_type": "code",
   "execution_count": null,
   "id": "47c68c69-46d1-48d0-a239-fac8bf36c6fa",
   "metadata": {
    "tags": []
   },
   "outputs": [],
   "source": [
    "# write tmp outputs\n",
    "tmp_outputs = substep.tmp_outputs()\n",
    "\n",
    "for i in range(1, 10):\n",
    "    with open(f'{tmp_outputs.tmp_entity_1}/file{i}.txt', 'w') as f:\n",
    "        f.write(str(i))"
   ]
  },
  {
   "cell_type": "code",
   "execution_count": null,
   "id": "0d36b469-1673-48b9-85d9-a2dffad293a1",
   "metadata": {
    "tags": []
   },
   "outputs": [],
   "source": [
    "from sinara.store import SinaraStore\n",
    "outputs = substep.outputs()\n",
    "\n",
    "SinaraStore.archive_tmp_files_to_store(tmp_outputs.tmp_entity_1, outputs.entityTar)"
   ]
  },
  {
   "cell_type": "code",
   "execution_count": null,
   "id": "f5683fff-74ee-4cf6-a93e-5a80d261718d",
   "metadata": {
    "tags": []
   },
   "outputs": [],
   "source": [
    "SinaraStore.dearchive_store_files_to_tmp(outputs.entityTar, tmp_outputs.tmp_entity_2)"
   ]
  },
  {
   "cell_type": "code",
   "execution_count": null,
   "id": "9b2722c8-f787-4e82-b597-0fc806f1deb1",
   "metadata": {},
   "outputs": [],
   "source": []
  }
 ],
 "metadata": {
  "kernelspec": {
   "display_name": "ml",
   "language": "python",
   "name": "python3"
  },
  "language_info": {
   "codemirror_mode": {
    "name": "ipython",
    "version": 3
   },
   "file_extension": ".py",
   "mimetype": "text/x-python",
   "name": "python",
   "nbconvert_exporter": "python",
   "pygments_lexer": "ipython3",
   "version": "3.10.12"
  }
 },
 "nbformat": 4,
 "nbformat_minor": 5
}
