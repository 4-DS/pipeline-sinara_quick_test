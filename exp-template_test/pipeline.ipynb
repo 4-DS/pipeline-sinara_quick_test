{
 "cells": [
  {
   "cell_type": "code",
   "execution_count": 1,
   "id": "ca8d0aed-07cc-495f-a12f-3a0652029a85",
   "metadata": {
    "editable": true,
    "slideshow": {
     "slide_type": ""
    },
    "tags": []
   },
   "outputs": [
    {
     "name": "stdout",
     "output_type": "stream",
     "text": [
      "/tmp/step/pipeline-sinara_quick_test/exp-template_test/run-25-01-15-160838/first.ipynb\n",
      "/tmp/step/pipeline-sinara_quick_test/exp-template_test/run-25-01-15-160838/first_2.ipynb\n",
      "/tmp/step/pipeline-sinara_quick_test/exp-template_test/run-25-01-15-160838/second.ipynb\n",
      "/tmp/step/pipeline-sinara_quick_test/exp-template_test/run-25-01-15-160838/second_2.ipynb\n",
      "/tmp/step/pipeline-sinara_quick_test/exp-template_test/run-25-01-15-160838/third.ipynb\n",
      "Hello from first.ipynb!\n"
     ]
    },
    {
     "data": {
      "application/vnd.jupyter.widget-view+json": {
       "model_id": "59b85894717149318f4865f7fed03565",
       "version_major": 2,
       "version_minor": 0
      },
      "text/plain": [
       "Executing:   0%|          | 0/5 [00:00<?, ?cell/s]"
      ]
     },
     "metadata": {},
     "output_type": "display_data"
    },
    {
     "name": "stdout",
     "output_type": "stream",
     "text": [
      "6912\n",
      "Hello from second.ipynb!\n"
     ]
    },
    {
     "data": {
      "application/vnd.jupyter.widget-view+json": {
       "model_id": "18c22ad9ed2f4200bc34381465375d69",
       "version_major": 2,
       "version_minor": 0
      },
      "text/plain": [
       "Executing:   0%|          | 0/3 [00:00<?, ?cell/s]"
      ]
     },
     "metadata": {},
     "output_type": "display_data"
    },
    {
     "name": "stdout",
     "output_type": "stream",
     "text": [
      "Hello from first.ipynb!\n"
     ]
    },
    {
     "data": {
      "application/vnd.jupyter.widget-view+json": {
       "model_id": "fd85c719c9f741259a34a7b5a100684b",
       "version_major": 2,
       "version_minor": 0
      },
      "text/plain": [
       "Executing:   0%|          | 0/5 [00:00<?, ?cell/s]"
      ]
     },
     "metadata": {},
     "output_type": "display_data"
    },
    {
     "name": "stdout",
     "output_type": "stream",
     "text": [
      "Hello from second.ipynb!\n"
     ]
    },
    {
     "data": {
      "application/vnd.jupyter.widget-view+json": {
       "model_id": "5f6b5ce1115e423193f3ef4a82a73ad8",
       "version_major": 2,
       "version_minor": 0
      },
      "text/plain": [
       "Executing:   0%|          | 0/3 [00:00<?, ?cell/s]"
      ]
     },
     "metadata": {},
     "output_type": "display_data"
    },
    {
     "name": "stdout",
     "output_type": "stream",
     "text": [
      "Hello from third.ipynb!\n"
     ]
    },
    {
     "data": {
      "application/vnd.jupyter.widget-view+json": {
       "model_id": "b479d4ff250e4cc39048333544ff1214",
       "version_major": 2,
       "version_minor": 0
      },
      "text/plain": [
       "Executing:   0%|          | 0/1 [00:00<?, ?cell/s]"
      ]
     },
     "metadata": {},
     "output_type": "display_data"
    }
   ],
   "source": [
    "import sys, os\n",
    "sys.path.append('../')\n",
    "\n",
    "import sinara.experiment as exp\n",
    "f1 = exp.Experiment.function(\"first.ipynb\")\n",
    "f1_2 = exp.Experiment.function(\"first.ipynb\", \"2\")\n",
    "f2 = exp.Experiment.function(\"second.ipynb\")\n",
    "f2_2 = exp.Experiment.function(\"second.ipynb\", \"2\")\n",
    "f3 = exp.Experiment.function(\"third.ipynb\")\n",
    "\n",
    "\n",
    "r1 = f1(os.getcwd(), {'b': 3456})\n",
    "print(r1)\n",
    "f2(r1)\n",
    "r1_2 = f1_2(os.getcwd(), {'b': 4567})\n",
    "r2_2 = f2_2(r1)\n",
    "f3()"
   ]
  }
 ],
 "metadata": {
  "kernelspec": {
   "display_name": "ml",
   "language": "python",
   "name": "python3"
  },
  "language_info": {
   "codemirror_mode": {
    "name": "ipython",
    "version": 3
   },
   "file_extension": ".py",
   "mimetype": "text/x-python",
   "name": "python",
   "nbconvert_exporter": "python",
   "pygments_lexer": "ipython3",
   "version": "3.10.12"
  }
 },
 "nbformat": 4,
 "nbformat_minor": 5
}
