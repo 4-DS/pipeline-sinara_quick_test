{
 "cells": [
  {
   "cell_type": "code",
   "execution_count": null,
   "id": "870a1090-f4ae-45a0-aa93-0960f5c6478d",
   "metadata": {
    "editable": true,
    "slideshow": {
     "slide_type": ""
    },
    "tags": []
   },
   "outputs": [],
   "source": [
    "%load_ext autoreload\n",
    "%autoreload 2"
   ]
  },
  {
   "cell_type": "code",
   "execution_count": null,
   "id": "db3e2fd1-db86-4bb6-a041-9507752f8264",
   "metadata": {
    "editable": true,
    "slideshow": {
     "slide_type": ""
    },
    "tags": []
   },
   "outputs": [],
   "source": [
    "# load pipeline and step parameters - do not edit\n",
    "from sinara.substep import get_pipeline_params, get_step_params\n",
    "pipeline_params = get_pipeline_params(pprint=True)\n",
    "step_params = get_step_params(pprint=True)"
   ]
  },
  {
   "cell_type": "code",
   "execution_count": null,
   "id": "453c78e8-6822-4123-bf9d-ed1ae9dd7bea",
   "metadata": {
    "editable": true,
    "slideshow": {
     "slide_type": ""
    },
    "tags": [
     "parameters"
    ]
   },
   "outputs": [],
   "source": [
    "# Specify sub_step parameters\n",
    "substep_params={\n",
    "}"
   ]
  },
  {
   "cell_type": "code",
   "execution_count": null,
   "id": "f3818420-6085-43ea-b97e-578742794e1e",
   "metadata": {
    "editable": true,
    "slideshow": {
     "slide_type": ""
    },
    "tags": []
   },
   "outputs": [],
   "source": [
    "# define substep interface\n",
    "from sinara.substep import NotebookSubstep, ENV_NAME, PIPELINE_NAME, ZONE_NAME, STEP_NAME, RUN_ID, ENTITY_NAME, ENTITY_PATH, SUBSTEP_NAME, get_tmp_work_path\n",
    "\n",
    "substep = NotebookSubstep(pipeline_params, step_params, substep_params)\n",
    "\n",
    "substep.interface(\n",
    "    # tmp_entities =\n",
    "    # [\n",
    "    #     { ENTITY_NAME: \"tmp_dir_to_store\" },\n",
    "    #     { ENTITY_NAME: \"tmp_dir_to_load\" }\n",
    "    # ],\n",
    "    \n",
    "    # custom_inputs = \n",
    "    # [\n",
    "    #     { ENTITY_NAME: \"big_file\", ENTITY_PATH: \"/data/tmp/user/pipeline/zone/big_file\" }\n",
    "    # ],\n",
    "    \n",
    "    outputs = \n",
    "    [\n",
    "        { ENTITY_NAME: \"stored_files\" }\n",
    "    ]\n",
    ")\n",
    "\n",
    "substep.print_interface_info()\n",
    "\n",
    "substep.exit_in_visualize_mode()"
   ]
  },
  {
   "cell_type": "code",
   "execution_count": null,
   "id": "2048b57a-edb8-449d-bd76-b1bf41d8ef2f",
   "metadata": {
    "editable": true,
    "slideshow": {
     "slide_type": ""
    },
    "tags": []
   },
   "outputs": [],
   "source": [
    "from sinara.spark import SinaraSpark\n",
    "\n",
    "spark = SinaraSpark.run_session(0)\n",
    "SinaraSpark.ui_url()"
   ]
  },
  {
   "cell_type": "code",
   "execution_count": null,
   "id": "948a4010-0c06-4255-a7c6-482eea33cfa5",
   "metadata": {
    "editable": true,
    "slideshow": {
     "slide_type": ""
    },
    "tags": []
   },
   "outputs": [],
   "source": [
    "import zlib\n",
    "\n",
    "def crc32(fileName):\n",
    "    with open(fileName, 'rb') as fh:\n",
    "        hash = 0\n",
    "        while True:\n",
    "            s = fh.read(65536)\n",
    "            if not s:\n",
    "                break\n",
    "            hash = zlib.crc32(s, hash)\n",
    "        return \"%08X\" % (hash & 0xFFFFFFFF)"
   ]
  },
  {
   "cell_type": "code",
   "execution_count": null,
   "id": "ac044d2e-aeb4-4e28-b980-f2a115d0ea2b",
   "metadata": {
    "editable": true,
    "slideshow": {
     "slide_type": ""
    },
    "tags": []
   },
   "outputs": [],
   "source": [
    "# create test data\n",
    "import os, random, string\n",
    "from pathlib import Path\n",
    "#tmp_entities = substep.tmp_entities()\n",
    "\n",
    "tmp_dir_to_store = get_tmp_work_path()\n",
    "\n",
    "for i in range(1, 10):\n",
    "    with open(f'{tmp_dir_to_store}/file{i}.txt', 'w') as f:\n",
    "        f.write(''.join(random.choices(string.ascii_lowercase, k=i*10))) # generate random content file size of i*10\n",
    "\n",
    "with open(f'{tmp_dir_to_store}/big_file.bin', 'wb') as f:\n",
    "    f.write(os.urandom(1000000))    # generate random content file larger than ROW_SIZE\n",
    "crc1 = crc32(f'{tmp_dir_to_store}/big_file.bin')\n",
    "\n",
    "Path(tmp_dir_to_store, \"subdir\").mkdir(parents=True, exist_ok=True)\n",
    "\n",
    "with open(f'{tmp_dir_to_store}/subdir/sub_big_file.bin', 'wb') as f:\n",
    "    f.write(os.urandom(1000000))    # generate random content file larger than ROW_SIZE in subdir\n",
    "crc1 = crc32(f'{tmp_dir_to_store}/subdir/sub_big_file.bin')"
   ]
  },
  {
   "cell_type": "code",
   "execution_count": null,
   "id": "e9ae426c-169f-44c2-98b5-9ce51c02ee6f",
   "metadata": {
    "editable": true,
    "slideshow": {
     "slide_type": ""
    },
    "tags": []
   },
   "outputs": [],
   "source": [
    "from sinara.archive import SinaraArchive\n",
    "arhive = SinaraArchive(spark)"
   ]
  },
  {
   "cell_type": "code",
   "execution_count": null,
   "id": "6462c15a-8ca0-4e2c-9840-702c19029a2b",
   "metadata": {
    "editable": true,
    "slideshow": {
     "slide_type": ""
    },
    "tags": []
   },
   "outputs": [],
   "source": [
    "import glob\n",
    "import os\n",
    "\n",
    "outputs = substep.outputs()\n",
    "\n",
    "stored_files = [os.path.basename(x) for x in glob.glob(tmp_dir_to_store + '/**', recursive=True)]\n",
    "print(stored_files)\n",
    "\n",
    "arhive.pack(tmp_dir_to_store, outputs.stored_files)"
   ]
  },
  {
   "cell_type": "code",
   "execution_count": null,
   "id": "edb6f51d-9bfc-4d41-a0db-7a5a5005ff3f",
   "metadata": {
    "editable": true,
    "slideshow": {
     "slide_type": ""
    },
    "tags": []
   },
   "outputs": [],
   "source": [
    "tmp_dir_to_load = arhive.unpack(outputs.stored_files)\n",
    "loaded_files = [os.path.basename(x) for x in glob.glob(tmp_dir_to_load + '/**', recursive=True)]\n",
    "print(loaded_files)"
   ]
  },
  {
   "cell_type": "code",
   "execution_count": null,
   "id": "aaafece5-f779-439f-b92c-11503c73ef5e",
   "metadata": {
    "editable": true,
    "slideshow": {
     "slide_type": ""
    },
    "tags": []
   },
   "outputs": [],
   "source": [
    "assert set(stored_files) == set(loaded_files), \"stored and loaded files are not equal\"\n",
    "\n",
    "crc2 = crc32(f'{tmp_dir_to_load}/big_file.bin')\n",
    "\n",
    "assert set(crc1) == set(crc1), \"stored and loaded big files files are not equal\""
   ]
  },
  {
   "cell_type": "code",
   "execution_count": null,
   "id": "9b2722c8-f787-4e82-b597-0fc806f1deb1",
   "metadata": {
    "editable": true,
    "slideshow": {
     "slide_type": ""
    },
    "tags": []
   },
   "outputs": [],
   "source": [
    "SinaraSpark.stop_session()"
   ]
  },
  {
   "cell_type": "code",
   "execution_count": null,
   "id": "2ae16a6b-bdbc-44ef-b3cd-e33c20d71456",
   "metadata": {},
   "outputs": [],
   "source": []
  }
 ],
 "metadata": {
  "kernelspec": {
   "display_name": "ml",
   "language": "python",
   "name": "python3"
  },
  "language_info": {
   "codemirror_mode": {
    "name": "ipython",
    "version": 3
   },
   "file_extension": ".py",
   "mimetype": "text/x-python",
   "name": "python",
   "nbconvert_exporter": "python",
   "pygments_lexer": "ipython3",
   "version": "3.10.12"
  }
 },
 "nbformat": 4,
 "nbformat_minor": 5
}
