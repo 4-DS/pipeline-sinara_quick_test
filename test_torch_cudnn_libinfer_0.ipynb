{
 "cells": [
  {
   "cell_type": "code",
   "execution_count": null,
   "id": "b396065b-df17-4cb1-90c2-42d655aa28f0",
   "metadata": {},
   "outputs": [],
   "source": [
    "%load_ext autoreload\n",
    "%autoreload 2"
   ]
  },
  {
   "cell_type": "code",
   "execution_count": null,
   "id": "922aa6f5-525e-4527-84a8-106e2c334199",
   "metadata": {
    "editable": true,
    "slideshow": {
     "slide_type": ""
    },
    "tags": [
     "parameters"
    ]
   },
   "outputs": [],
   "source": [
    "# Specify sub_step parameters\n",
    "substep_params={\n",
    "    \"audio_to_transcribe_url\": \"https://audio-samples.github.io/samples/mp3/blizzard_unconditional/sample-0.mp3\"\n",
    "    }"
   ]
  },
  {
   "cell_type": "code",
   "execution_count": null,
   "id": "0c27af83-8f9a-4b51-8da4-969d9f0f04f4",
   "metadata": {
    "editable": true,
    "slideshow": {
     "slide_type": ""
    },
    "tags": []
   },
   "outputs": [],
   "source": [
    "# load pipeline and step parameters - do not edit\n",
    "from sinara.substep import get_pipeline_params, get_step_params\n",
    "pipeline_params = get_pipeline_params(pprint=True)\n",
    "step_params = get_step_params(pprint=True)"
   ]
  },
  {
   "cell_type": "code",
   "execution_count": null,
   "id": "7e448e8c-50b5-4f29-9a5d-cd555ad8e591",
   "metadata": {
    "editable": true,
    "slideshow": {
     "slide_type": ""
    },
    "tags": []
   },
   "outputs": [],
   "source": [
    "# specify all notebook wide libraries imports here\n",
    "# Sinara lib imports is left in the place of their usage\n",
    "import os\n",
    "import os.path as osp"
   ]
  },
  {
   "cell_type": "code",
   "execution_count": null,
   "id": "65d727ec-e205-438e-959a-e87348ae9c37",
   "metadata": {
    "editable": true,
    "slideshow": {
     "slide_type": ""
    },
    "tags": []
   },
   "outputs": [],
   "source": [
    "# Define substep interface\n",
    "from sinara.substep import NotebookSubstep, ENV_NAME, PIPELINE_NAME, ZONE_NAME, STEP_NAME, RUN_ID, ENTITY_NAME, ENTITY_PATH, SUBSTEP_NAME\n",
    "\n",
    "substep = NotebookSubstep(pipeline_params, step_params, substep_params)\n",
    "\n",
    "substep.interface(\n",
    "    tmp_outputs =\n",
    "    [\n",
    "        { ENTITY_NAME: \"audio_to_transcribe\" }\n",
    "    ]\n",
    ")\n",
    "\n",
    "substep.print_interface_info()\n",
    "\n",
    "substep.exit_in_visualize_mode()"
   ]
  },
  {
   "cell_type": "code",
   "execution_count": null,
   "id": "b68718b7-e10b-424b-9a4d-58645afa1aac",
   "metadata": {
    "editable": true,
    "slideshow": {
     "slide_type": ""
    },
    "tags": []
   },
   "outputs": [],
   "source": [
    "# run spark\n",
    "from sinara.spark import SinaraSpark\n",
    "\n",
    "spark = SinaraSpark.run_session(0)\n",
    "SinaraSpark.ui_url()"
   ]
  },
  {
   "cell_type": "code",
   "execution_count": null,
   "id": "d3e4c202-4ae2-4aed-8445-63480ca5efae",
   "metadata": {
    "editable": true,
    "slideshow": {
     "slide_type": ""
    },
    "tags": []
   },
   "outputs": [],
   "source": [
    "tmp_outputs = substep.tmp_outputs()\n",
    "\n",
    "audio_to_transcribe_url = substep_params[\"audio_to_transcribe_url\"]"
   ]
  },
  {
   "cell_type": "code",
   "execution_count": null,
   "id": "2f259aff-91e7-493c-92a1-2f4264db6ae8",
   "metadata": {
    "editable": true,
    "slideshow": {
     "slide_type": ""
    },
    "tags": []
   },
   "outputs": [],
   "source": [
    "# Download coco_datasets_images\n",
    "!wget {audio_to_transcribe_url} -O {osp.join(tmp_outputs.audio_to_transcribe, osp.basename(audio_to_transcribe_url))}"
   ]
  },
  {
   "cell_type": "code",
   "execution_count": null,
   "id": "6f02af8f-e6b0-4ae4-b695-9813b050a965",
   "metadata": {},
   "outputs": [],
   "source": [
    "# https://github.com/SYSTRAN/faster-whisper"
   ]
  },
  {
   "cell_type": "markdown",
   "id": "22b9e8eb-304f-4ebb-827e-27fd9cb1ad71",
   "metadata": {},
   "source": [
    "# Ensure that all requirements that are absent in cv images are installed"
   ]
  },
  {
   "cell_type": "code",
   "execution_count": null,
   "id": "23268d0f-d710-412b-9920-d7026ddd0156",
   "metadata": {
    "editable": true,
    "slideshow": {
     "slide_type": ""
    },
    "tags": []
   },
   "outputs": [],
   "source": [
    "try:\n",
    "    import faster_whisper\n",
    "except ModuleNotFoundError:\n",
    "    !pip install faster-whisper\n",
    "finally:\n",
    "    import faster_whisper\n",
    "    print(f\"{faster_whisper.__version__=}\")"
   ]
  },
  {
   "cell_type": "code",
   "execution_count": null,
   "id": "ca9ac724-b5d4-4ccc-888b-0db2ddd7b6da",
   "metadata": {
    "editable": true,
    "slideshow": {
     "slide_type": ""
    },
    "tags": []
   },
   "outputs": [],
   "source": [
    "# https://github.com/coqui-ai/TTS"
   ]
  },
  {
   "cell_type": "code",
   "execution_count": null,
   "id": "b80d2dd6-ea6c-4624-ba1b-d78b36f86d26",
   "metadata": {},
   "outputs": [],
   "source": [
    "import torch\n",
    "print(f\"{torch.__version__=}\")\n",
    "url = \"https://download.pytorch.org/whl/\"\n",
    "if \"cu\" in torch.__version__:\n",
    "    url += torch.__version__.split('+')[1]\n",
    "\n",
    "print(f\"{url=}\")"
   ]
  },
  {
   "cell_type": "code",
   "execution_count": null,
   "id": "c7d5073f-f651-4dd3-9f66-086c5920b87a",
   "metadata": {},
   "outputs": [],
   "source": [
    "try:\n",
    "    import torchaudio\n",
    "except ModuleNotFoundError:\n",
    "    !pip install torchaudio=={torch.__version__} --index-url {url}\n",
    "finally:\n",
    "    import torchaudio\n",
    "    print(f\"{torchaudio.__version__=}\")"
   ]
  },
  {
   "cell_type": "code",
   "execution_count": null,
   "id": "6c7b172f-270a-4f92-8d1b-8201a685f128",
   "metadata": {},
   "outputs": [],
   "source": [
    "try:\n",
    "    import TTS\n",
    "except ModuleNotFoundError:\n",
    "    !pip install librosa soundfile TTS==0.22.0 unidic-lite==1.0.8 cutlet fugashi[unidic-lite]\n",
    "finally:\n",
    "    import TTS\n",
    "    print(f\"{TTS.__version__=}\")"
   ]
  },
  {
   "cell_type": "code",
   "execution_count": null,
   "id": "0b9a1ff1-b2c3-48ab-ba98-c909ba19fa22",
   "metadata": {},
   "outputs": [],
   "source": [
    "#8 stop spark\n",
    "SinaraSpark.stop_session()"
   ]
  }
 ],
 "metadata": {
  "kernelspec": {
   "display_name": "cv",
   "language": "python",
   "name": "python3"
  },
  "language_info": {
   "codemirror_mode": {
    "name": "ipython",
    "version": 3
   },
   "file_extension": ".py",
   "mimetype": "text/x-python",
   "name": "python",
   "nbconvert_exporter": "python",
   "pygments_lexer": "ipython3",
   "version": "3.10.12"
  }
 },
 "nbformat": 4,
 "nbformat_minor": 5
}
