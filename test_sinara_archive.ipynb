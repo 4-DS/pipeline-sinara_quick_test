{
 "cells": [
  {
   "cell_type": "code",
   "execution_count": 1,
   "id": "870a1090-f4ae-45a0-aa93-0960f5c6478d",
   "metadata": {
    "editable": true,
    "slideshow": {
     "slide_type": ""
    },
    "tags": []
   },
   "outputs": [],
   "source": [
    "%load_ext autoreload\n",
    "%autoreload 2"
   ]
  },
  {
   "cell_type": "code",
   "execution_count": 2,
   "id": "db3e2fd1-db86-4bb6-a041-9507752f8264",
   "metadata": {
    "editable": true,
    "slideshow": {
     "slide_type": ""
    },
    "tags": []
   },
   "outputs": [
    {
     "data": {
      "text/markdown": [
       "**Pipeline params:**\n"
      ],
      "text/plain": [
       "<IPython.core.display.Markdown object>"
      ]
     },
     "metadata": {},
     "output_type": "display_data"
    },
    {
     "name": "stdout",
     "output_type": "stream",
     "text": [
      "{'X': 'something',\n",
      " 'env_name': 'user',\n",
      " 'pipeline_name': 'pipeline',\n",
      " 'zone_name': 'zone'}\n",
      "\n",
      "\n"
     ]
    },
    {
     "data": {
      "text/markdown": [
       "**Step params:**\n"
      ],
      "text/plain": [
       "<IPython.core.display.Markdown object>"
      ]
     },
     "metadata": {},
     "output_type": "display_data"
    },
    {
     "name": "stdout",
     "output_type": "stream",
     "text": [
      "{'Y': 'something_else'}\n",
      "\n",
      "\n"
     ]
    }
   ],
   "source": [
    "# load pipeline and step parameters - do not edit\n",
    "from sinara.substep import get_pipeline_params, get_step_params\n",
    "pipeline_params = get_pipeline_params(pprint=True)\n",
    "step_params = get_step_params(pprint=True)"
   ]
  },
  {
   "cell_type": "code",
   "execution_count": 3,
   "id": "453c78e8-6822-4123-bf9d-ed1ae9dd7bea",
   "metadata": {
    "editable": true,
    "slideshow": {
     "slide_type": ""
    },
    "tags": [
     "parameters"
    ]
   },
   "outputs": [],
   "source": [
    "# Specify sub_step parameters\n",
    "substep_params={\n",
    "}"
   ]
  },
  {
   "cell_type": "code",
   "execution_count": 4,
   "id": "f3818420-6085-43ea-b97e-578742794e1e",
   "metadata": {
    "editable": true,
    "slideshow": {
     "slide_type": ""
    },
    "tags": []
   },
   "outputs": [
    {
     "data": {
      "text/markdown": [
       "**STEP NAME:**\n"
      ],
      "text/plain": [
       "<IPython.core.display.Markdown object>"
      ]
     },
     "metadata": {},
     "output_type": "display_data"
    },
    {
     "name": "stdout",
     "output_type": "stream",
     "text": [
      "'sinara_quick_test'\n",
      "\n",
      "\n"
     ]
    },
    {
     "data": {
      "text/markdown": [
       "**OUTPUTS:**\n"
      ],
      "text/plain": [
       "<IPython.core.display.Markdown object>"
      ]
     },
     "metadata": {},
     "output_type": "display_data"
    },
    {
     "name": "stdout",
     "output_type": "stream",
     "text": [
      "[{'user.pipeline.zone.sinara_quick_test.stored_files': '/data/home/jovyan/pipeline/zone/sinara_quick_test/run-24-07-22-110101/stored_files'}]\n",
      "\n",
      "\n"
     ]
    },
    {
     "data": {
      "text/markdown": [
       "**TMP ENTITIES:**\n"
      ],
      "text/plain": [
       "<IPython.core.display.Markdown object>"
      ]
     },
     "metadata": {},
     "output_type": "display_data"
    },
    {
     "name": "stdout",
     "output_type": "stream",
     "text": [
      "[{'tmp:user.pipeline.zone.sinara_quick_test.tmp_dir_to_store': '/tmp/env/user/pipeline/zone/sinara_quick_test/run-24-07-22-110101/tmp_dir_to_store'},\n",
      " {'tmp:user.pipeline.zone.sinara_quick_test.tmp_dir_to_load': '/tmp/env/user/pipeline/zone/sinara_quick_test/run-24-07-22-110101/tmp_dir_to_load'}]\n",
      "\n",
      "\n"
     ]
    }
   ],
   "source": [
    "# define substep interface\n",
    "from sinara.substep import NotebookSubstep, ENV_NAME, PIPELINE_NAME, ZONE_NAME, STEP_NAME, RUN_ID, ENTITY_NAME, ENTITY_PATH, SUBSTEP_NAME\n",
    "\n",
    "substep = NotebookSubstep(pipeline_params, step_params, substep_params)\n",
    "\n",
    "substep.interface(\n",
    "    tmp_entities =\n",
    "    [\n",
    "        { ENTITY_NAME: \"tmp_dir_to_store\" },\n",
    "        { ENTITY_NAME: \"tmp_dir_to_load\" }\n",
    "    ],\n",
    "    \n",
    "    # custom_inputs = \n",
    "    # [\n",
    "    #     { ENTITY_NAME: \"big_file\", ENTITY_PATH: \"/data/tmp/user/pipeline/zone/big_file\" }\n",
    "    # ],\n",
    "    \n",
    "    outputs = \n",
    "    [\n",
    "        { ENTITY_NAME: \"stored_files\" }\n",
    "    ]\n",
    ")\n",
    "\n",
    "substep.print_interface_info()\n",
    "\n",
    "substep.exit_in_visualize_mode()"
   ]
  },
  {
   "cell_type": "code",
   "execution_count": 5,
   "id": "2048b57a-edb8-449d-bd76-b1bf41d8ef2f",
   "metadata": {
    "editable": true,
    "slideshow": {
     "slide_type": ""
    },
    "tags": []
   },
   "outputs": [
    {
     "name": "stdout",
     "output_type": "stream",
     "text": [
      "Session is run\n"
     ]
    },
    {
     "name": "stderr",
     "output_type": "stream",
     "text": [
      "Setting default log level to \"WARN\".\n",
      "To adjust logging level use sc.setLogLevel(newLevel). For SparkR, use setLogLevel(newLevel).\n",
      "24/07/22 11:01:03 WARN NativeCodeLoader: Unable to load native-hadoop library for your platform... using builtin-java classes where applicable\n",
      "24/07/22 11:01:04 WARN Utils: Service 'SparkUI' could not bind on port 4040. Attempting port 4041.\n"
     ]
    },
    {
     "data": {
      "text/html": [
       "<a href='/proxy/4041/jobs/' target='blank'>Open Spark UI</a>"
      ],
      "text/plain": [
       "<IPython.core.display.HTML object>"
      ]
     },
     "metadata": {},
     "output_type": "display_data"
    }
   ],
   "source": [
    "from sinara.spark import SinaraSpark\n",
    "\n",
    "spark = SinaraSpark.run_session(0)\n",
    "SinaraSpark.ui_url()"
   ]
  },
  {
   "cell_type": "code",
   "execution_count": 6,
   "id": "948a4010-0c06-4255-a7c6-482eea33cfa5",
   "metadata": {
    "editable": true,
    "slideshow": {
     "slide_type": ""
    },
    "tags": []
   },
   "outputs": [],
   "source": [
    "import zlib\n",
    "\n",
    "def crc32(fileName):\n",
    "    with open(fileName, 'rb') as fh:\n",
    "        hash = 0\n",
    "        while True:\n",
    "            s = fh.read(65536)\n",
    "            if not s:\n",
    "                break\n",
    "            hash = zlib.crc32(s, hash)\n",
    "        return \"%08X\" % (hash & 0xFFFFFFFF)"
   ]
  },
  {
   "cell_type": "code",
   "execution_count": 7,
   "id": "ac044d2e-aeb4-4e28-b980-f2a115d0ea2b",
   "metadata": {
    "editable": true,
    "slideshow": {
     "slide_type": ""
    },
    "tags": []
   },
   "outputs": [],
   "source": [
    "# create test data\n",
    "import os, random, string\n",
    "from pathlib import Path\n",
    "tmp_entities = substep.tmp_entities()\n",
    "\n",
    "for i in range(1, 10):\n",
    "    with open(f'{tmp_entities.tmp_dir_to_store}/file{i}.txt', 'w') as f:\n",
    "        f.write(''.join(random.choices(string.ascii_lowercase, k=i*10))) # generate random content file size of i*10\n",
    "\n",
    "with open(f'{tmp_entities.tmp_dir_to_store}/big_file.bin', 'wb') as f:\n",
    "    f.write(os.urandom(1000000))    # generate random content file larger than ROW_SIZE\n",
    "crc1 = crc32(f'{tmp_entities.tmp_dir_to_store}/big_file.bin')\n",
    "\n",
    "Path(tmp_entities.tmp_dir_to_store, \"subdir\").mkdir(parents=True, exist_ok=True)\n",
    "\n",
    "with open(f'{tmp_entities.tmp_dir_to_store}/subdir/sub_big_file.bin', 'wb') as f:\n",
    "    f.write(os.urandom(1000000))    # generate random content file larger than ROW_SIZE in subdir\n",
    "crc1 = crc32(f'{tmp_entities.tmp_dir_to_store}/subdir/sub_big_file.bin')"
   ]
  },
  {
   "cell_type": "code",
   "execution_count": 8,
   "id": "e9ae426c-169f-44c2-98b5-9ce51c02ee6f",
   "metadata": {
    "editable": true,
    "slideshow": {
     "slide_type": ""
    },
    "tags": []
   },
   "outputs": [],
   "source": [
    "from sinara.archive import SinaraArchive\n",
    "arhive = SinaraArchive(spark)"
   ]
  },
  {
   "cell_type": "code",
   "execution_count": 9,
   "id": "6462c15a-8ca0-4e2c-9840-702c19029a2b",
   "metadata": {
    "editable": true,
    "slideshow": {
     "slide_type": ""
    },
    "tags": []
   },
   "outputs": [
    {
     "name": "stdout",
     "output_type": "stream",
     "text": [
      "['', 'subdir', 'sub_big_file.bin', 'file4.txt', 'file3.txt', 'file6.txt', 'file8.txt', 'file9.txt', 'file2.txt', 'file5.txt', 'file7.txt', 'big_file.bin', 'file1.txt']\n"
     ]
    },
    {
     "name": "stderr",
     "output_type": "stream",
     "text": [
      "                                                                                \r"
     ]
    }
   ],
   "source": [
    "import glob\n",
    "import os\n",
    "\n",
    "outputs = substep.outputs()\n",
    "\n",
    "stored_files = [os.path.basename(x) for x in glob.glob(tmp_entities.tmp_dir_to_store + '/**', recursive=True)]\n",
    "print(stored_files)\n",
    "\n",
    "arhive.pack_files_from_tmp_to_store(tmp_entities.tmp_dir_to_store, outputs.stored_files)"
   ]
  },
  {
   "cell_type": "code",
   "execution_count": 10,
   "id": "edb6f51d-9bfc-4d41-a0db-7a5a5005ff3f",
   "metadata": {
    "editable": true,
    "slideshow": {
     "slide_type": ""
    },
    "tags": []
   },
   "outputs": [
    {
     "name": "stderr",
     "output_type": "stream",
     "text": [
      "[Stage 4:>                                                          (0 + 3) / 3]\r"
     ]
    },
    {
     "name": "stdout",
     "output_type": "stream",
     "text": [
      "['', 'subdir', 'sub_big_file.bin', 'file4.txt', 'file3.txt', 'file6.txt', 'file8.txt', 'file9.txt', 'file2.txt', 'file5.txt', 'file7.txt', 'big_file.bin', 'file1.txt']\n"
     ]
    },
    {
     "name": "stderr",
     "output_type": "stream",
     "text": [
      "                                                                                \r"
     ]
    }
   ],
   "source": [
    "arhive.unpack_files_from_store_to_tmp(outputs.stored_files, tmp_entities.tmp_dir_to_load)\n",
    "loaded_files = [os.path.basename(x) for x in glob.glob(tmp_entities.tmp_dir_to_load + '/**', recursive=True)]\n",
    "print(loaded_files)"
   ]
  },
  {
   "cell_type": "code",
   "execution_count": 11,
   "id": "aaafece5-f779-439f-b92c-11503c73ef5e",
   "metadata": {
    "editable": true,
    "slideshow": {
     "slide_type": ""
    },
    "tags": []
   },
   "outputs": [],
   "source": [
    "assert set(stored_files) == set(loaded_files), \"stored and loaded files are not equal\"\n",
    "\n",
    "crc2 = crc32(f'{tmp_entities.tmp_dir_to_load}/big_file.bin')\n",
    "\n",
    "assert set(crc1) == set(crc1), \"stored and loaded big files files are not equal\""
   ]
  },
  {
   "cell_type": "code",
   "execution_count": 12,
   "id": "1c46a7c8-8bca-499c-a87b-bbaa26e71e32",
   "metadata": {
    "editable": true,
    "slideshow": {
     "slide_type": ""
    },
    "tags": []
   },
   "outputs": [
    {
     "name": "stdout",
     "output_type": "stream",
     "text": [
      "root\n",
      " |-- modificationTime: timestamp (nullable = true)\n",
      " |-- length: long (nullable = true)\n",
      " |-- content: binary (nullable = true)\n",
      " |-- relPath: string (nullable = true)\n",
      " |-- my_col: string (nullable = false)\n",
      "\n"
     ]
    }
   ],
   "source": [
    "from pyspark.sql.functions import col,lit\n",
    "df = arhive.pack_files_from_tmp_to_spark_df(tmp_entities.tmp_dir_to_load).withColumn(\"my_col\", lit('myValue'))\n",
    "df.printSchema()"
   ]
  },
  {
   "cell_type": "code",
   "execution_count": 13,
   "id": "34cfd93e-2f0f-4b9a-ab16-a3c5b8e8f4f8",
   "metadata": {
    "editable": true,
    "slideshow": {
     "slide_type": ""
    },
    "tags": []
   },
   "outputs": [
    {
     "name": "stdout",
     "output_type": "stream",
     "text": [
      "+--------------------+-------+--------------------+--------------------+-------+\n",
      "|    modificationTime| length|             content|             relPath| my_col|\n",
      "+--------------------+-------+--------------------+--------------------+-------+\n",
      "|2024-07-22 11:01:...|     90|[75 64 66 75 66 6...|          /file9.txt|myValue|\n",
      "|2024-07-22 11:01:...|     40|[74 6A 64 6A 7A 6...|          /file4.txt|myValue|\n",
      "|2024-07-22 11:01:...|     70|[68 76 6E 62 6A 6...|          /file7.txt|myValue|\n",
      "|2024-07-22 11:01:...|     60|[61 69 73 75 70 7...|          /file6.txt|myValue|\n",
      "|2024-07-22 11:01:...|     50|[66 7A 73 63 6A 7...|          /file5.txt|myValue|\n",
      "|2024-07-22 11:01:...|     20|[76 64 73 77 79 6...|          /file2.txt|myValue|\n",
      "|2024-07-22 11:01:...|     80|[6B 78 76 64 6C 7...|          /file8.txt|myValue|\n",
      "|2024-07-22 11:01:...|     10|[65 70 78 68 74 7...|          /file1.txt|myValue|\n",
      "|2024-07-22 11:01:...|1000000|[C2 4E F0 65 AB 0...|       /big_file.bin|myValue|\n",
      "|2024-07-22 11:01:...|     30|[70 6F 6D 64 66 6...|          /file3.txt|myValue|\n",
      "|2024-07-22 11:01:...|1000000|[2F 37 AF A9 10 4...|/subdir/sub_big_f...|myValue|\n",
      "+--------------------+-------+--------------------+--------------------+-------+\n",
      "\n"
     ]
    }
   ],
   "source": [
    "df.show()"
   ]
  },
  {
   "cell_type": "code",
   "execution_count": 14,
   "id": "9b2722c8-f787-4e82-b597-0fc806f1deb1",
   "metadata": {
    "editable": true,
    "slideshow": {
     "slide_type": ""
    },
    "tags": []
   },
   "outputs": [],
   "source": [
    "SinaraSpark.stop_session()"
   ]
  },
  {
   "cell_type": "code",
   "execution_count": null,
   "id": "2ae16a6b-bdbc-44ef-b3cd-e33c20d71456",
   "metadata": {},
   "outputs": [],
   "source": []
  }
 ],
 "metadata": {
  "kernelspec": {
   "display_name": "ml",
   "language": "python",
   "name": "python3"
  },
  "language_info": {
   "codemirror_mode": {
    "name": "ipython",
    "version": 3
   },
   "file_extension": ".py",
   "mimetype": "text/x-python",
   "name": "python",
   "nbconvert_exporter": "python",
   "pygments_lexer": "ipython3",
   "version": "3.10.12"
  }
 },
 "nbformat": 4,
 "nbformat_minor": 5
}
