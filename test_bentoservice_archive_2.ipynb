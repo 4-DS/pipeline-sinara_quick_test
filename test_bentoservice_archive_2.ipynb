{
 "cells": [
  {
   "cell_type": "markdown",
   "id": "4d7352d5-9825-4080-9995-9de3be7839fe",
   "metadata": {},
   "source": [
    "This is an analogue of model_eval step"
   ]
  },
  {
   "cell_type": "code",
   "execution_count": null,
   "id": "fc3b7972-c531-43fe-805c-f542e551ae92",
   "metadata": {},
   "outputs": [],
   "source": [
    "%load_ext autoreload\n",
    "%autoreload 2"
   ]
  },
  {
   "cell_type": "code",
   "execution_count": null,
   "id": "d158ca3d-bfd3-405a-871a-fa0b32ea19ab",
   "metadata": {
    "tags": [
     "parameters"
    ]
   },
   "outputs": [],
   "source": [
    "# Specify sub_step parameters\n",
    "substep_params={\n",
    "}"
   ]
  },
  {
   "cell_type": "code",
   "execution_count": null,
   "id": "5c056657-ddf0-4c6d-ac93-723ed878096f",
   "metadata": {},
   "outputs": [],
   "source": [
    "# load pipeline and step parameters - do not edit\n",
    "from sinara.substep import get_pipeline_params, get_step_params\n",
    "pipeline_params = get_pipeline_params(pprint=True)\n",
    "step_params = get_step_params(pprint=True)"
   ]
  },
  {
   "cell_type": "code",
   "execution_count": null,
   "id": "97079c2e-d9fa-4784-9d75-3263286a44a2",
   "metadata": {},
   "outputs": [],
   "source": [
    "# define substep interface\n",
    "from sinara.substep import NotebookSubstep, ENV_NAME, PIPELINE_NAME, ZONE_NAME, STEP_NAME, RUN_ID, ENTITY_NAME, ENTITY_PATH, SUBSTEP_NAME\n",
    "\n",
    "substep = NotebookSubstep(pipeline_params, step_params, substep_params)\n",
    "\n",
    "substep.interface(  \n",
    "    inputs =\n",
    "    [\n",
    "        { STEP_NAME: \"sinara_quick_test\", ENTITY_NAME: \"bento_service\" } # stored BentoService\n",
    "    ],\n",
    "    tmp_outputs =\n",
    "    [\n",
    "        { ENTITY_NAME: \"some_model_binary_artifact\" }\n",
    "    ]\n",
    ")\n",
    "\n",
    "substep.print_interface_info()\n",
    "\n",
    "substep.exit_in_visualize_mode()"
   ]
  },
  {
   "cell_type": "code",
   "execution_count": null,
   "id": "63a59f01-9251-4b77-9743-2adb759df47a",
   "metadata": {
    "editable": true,
    "slideshow": {
     "slide_type": ""
    },
    "tags": []
   },
   "outputs": [],
   "source": [
    "# Load model and save model's artifacts to tmp\n",
    "from sinara.bentoml import load_bentoservice, save_bentoartifact_to_tmp\n",
    "\n",
    "inputs = substep.inputs(step_name=\"sinara_quick_test\")\n",
    "tmp_outputs = substep.tmp_outputs()\n",
    "\n",
    "# read trained model    \n",
    "bento_service = load_bentoservice(inputs.bento_service) \n",
    "\n",
    "# save model's artifact for evaluation\n",
    "save_bentoartifact_to_tmp(bento_service, \"model\", tmp_outputs.some_model_binary_artifact)"
   ]
  }
 ],
 "metadata": {
  "kernelspec": {
   "display_name": "ml",
   "language": "python",
   "name": "python3"
  },
  "language_info": {
   "codemirror_mode": {
    "name": "ipython",
    "version": 3
   },
   "file_extension": ".py",
   "mimetype": "text/x-python",
   "name": "python",
   "nbconvert_exporter": "python",
   "pygments_lexer": "ipython3",
   "version": "3.10.12"
  }
 },
 "nbformat": 4,
 "nbformat_minor": 5
}
