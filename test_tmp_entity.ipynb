{
 "cells": [
  {
   "cell_type": "code",
   "execution_count": 1,
   "id": "870a1090-f4ae-45a0-aa93-0960f5c6478d",
   "metadata": {
    "tags": []
   },
   "outputs": [],
   "source": [
    "%load_ext autoreload\n",
    "%autoreload 2"
   ]
  },
  {
   "cell_type": "code",
   "execution_count": 2,
   "id": "453c78e8-6822-4123-bf9d-ed1ae9dd7bea",
   "metadata": {
    "tags": [
     "parameters"
    ]
   },
   "outputs": [
    {
     "data": {
      "text/markdown": [
       "**Pipeline params:**\n"
      ],
      "text/plain": [
       "<IPython.core.display.Markdown object>"
      ]
     },
     "metadata": {},
     "output_type": "display_data"
    },
    {
     "name": "stdout",
     "output_type": "stream",
     "text": [
      "{'X': 'something',\n",
      " 'env_name': 'user',\n",
      " 'pipeline_name': 'pipeline',\n",
      " 'zone_name': 'zone'}\n",
      "\n",
      "\n"
     ]
    },
    {
     "data": {
      "text/markdown": [
       "**Step params:**\n"
      ],
      "text/plain": [
       "<IPython.core.display.Markdown object>"
      ]
     },
     "metadata": {},
     "output_type": "display_data"
    },
    {
     "name": "stdout",
     "output_type": "stream",
     "text": [
      "{'Y': 'something_else'}\n",
      "\n",
      "\n"
     ]
    }
   ],
   "source": [
    "substep_params={}"
   ]
  },
  {
   "cell_type": "code",
   "execution_count": null,
   "id": "705179f5-fa88-4d57-b3f0-814a4873751b",
   "metadata": {},
   "outputs": [],
   "source": [
    "# load pipeline and step parameters - do not edit\n",
    "from sinara.substep import get_pipeline_params, get_step_params\n",
    "pipeline_params = get_pipeline_params(pprint=True)\n",
    "step_params = get_step_params(pprint=True)"
   ]
  },
  {
   "cell_type": "code",
   "execution_count": 3,
   "id": "f3818420-6085-43ea-b97e-578742794e1e",
   "metadata": {
    "tags": []
   },
   "outputs": [
    {
     "ename": "NameError",
     "evalue": "name 'substep_params' is not defined",
     "output_type": "error",
     "traceback": [
      "\u001b[0;31m---------------------------------------------------------------------------\u001b[0m",
      "\u001b[0;31mNameError\u001b[0m                                 Traceback (most recent call last)",
      "Cell \u001b[0;32mIn[3], line 4\u001b[0m\n\u001b[1;32m      1\u001b[0m \u001b[38;5;66;03m# define substep interface\u001b[39;00m\n\u001b[1;32m      2\u001b[0m \u001b[38;5;28;01mfrom\u001b[39;00m \u001b[38;5;21;01msinara\u001b[39;00m\u001b[38;5;21;01m.\u001b[39;00m\u001b[38;5;21;01msubstep\u001b[39;00m \u001b[38;5;28;01mimport\u001b[39;00m NotebookSubstep, ENV_NAME, PIPELINE_NAME, ZONE_NAME, STEP_NAME, RUN_ID, ENTITY_NAME, ENTITY_PATH, SUBSTEP_NAME\n\u001b[0;32m----> 4\u001b[0m substep \u001b[38;5;241m=\u001b[39m NotebookSubstep(pipeline_params, step_params, \u001b[43msubstep_params\u001b[49m)\n\u001b[1;32m      6\u001b[0m substep\u001b[38;5;241m.\u001b[39minterface(\n\u001b[1;32m      7\u001b[0m     \n\u001b[1;32m      8\u001b[0m     tmp_outputs \u001b[38;5;241m=\u001b[39m\n\u001b[0;32m   (...)\u001b[0m\n\u001b[1;32m     20\u001b[0m     ]\n\u001b[1;32m     21\u001b[0m )\n\u001b[1;32m     23\u001b[0m substep\u001b[38;5;241m.\u001b[39mprint_interface_info()\n",
      "\u001b[0;31mNameError\u001b[0m: name 'substep_params' is not defined"
     ]
    }
   ],
   "source": [
    "# define substep interface\n",
    "from sinara.substep import NotebookSubstep, ENV_NAME, PIPELINE_NAME, ZONE_NAME, STEP_NAME, RUN_ID, ENTITY_NAME, ENTITY_PATH, SUBSTEP_NAME\n",
    "\n",
    "substep = NotebookSubstep(pipeline_params, step_params, substep_params)\n",
    "\n",
    "substep.interface(\n",
    "    \n",
    "    tmp_outputs =\n",
    "    [\n",
    "        { ENTITY_NAME: \"tmp_out_1\" },\n",
    "        { ENTITY_NAME: \"tmp_out_2\" },\n",
    "        { ENTITY_NAME: \"tmp_out_3\" }\n",
    "    ],\n",
    "   \n",
    "    tmp_entities =\n",
    "    [\n",
    "        { ENTITY_NAME: \"tmp_entity_1\" },\n",
    "        { ENTITY_NAME: \"tmp_entity_2\" },\n",
    "        { ENTITY_NAME: \"tmp_entity_3\" }\n",
    "    ]\n",
    ")\n",
    "\n",
    "substep.print_interface_info()\n",
    "\n",
    "substep.exit_in_visualize_mode()"
   ]
  },
  {
   "cell_type": "code",
   "execution_count": null,
   "id": "55e950c3-3151-4daf-9b98-83d3aebe216d",
   "metadata": {
    "tags": []
   },
   "outputs": [],
   "source": [
    "# run spark\n",
    "from sinara.spark import SinaraSpark\n",
    "\n",
    "spark = SinaraSpark.run_session(0)\n",
    "SinaraSpark.ui_url()"
   ]
  },
  {
   "cell_type": "code",
   "execution_count": null,
   "id": "70b2d9b3-051c-424c-beec-9da8f177b4ed",
   "metadata": {
    "tags": []
   },
   "outputs": [],
   "source": [
    "# prepare dataframes\n",
    "data = [(\"Finance\",10), \n",
    "        (\"Marketing\",20), \n",
    "        (\"Sales\",30), \n",
    "        (\"IT\",40) \n",
    "      ]\n",
    "\n",
    "columns = [\"name\",\"id\"]\n",
    "df1 = spark.createDataFrame(data=data, schema = columns)\n",
    "df2 = spark.createDataFrame(data=data, schema = columns)\n",
    "df3 = spark.createDataFrame(data=data, schema = columns)\n",
    "#df1.printSchema()\n",
    "#df1.show(truncate=False)"
   ]
  },
  {
   "cell_type": "code",
   "execution_count": null,
   "id": "47c68c69-46d1-48d0-a239-fac8bf36c6fa",
   "metadata": {
    "tags": []
   },
   "outputs": [],
   "source": [
    "# write tmp outputs\n",
    "tmp_entities = substep.tmp_entities()\n",
    "\n",
    "df1.write.parquet(tmp_entities.tmp_entity_1, mode='overwrite')\n",
    "df2.write.parquet(tmp_entities.tmp_entity_2, mode='overwrite')\n",
    "df3.write.parquet(tmp_entities.tmp_entity_3, mode='overwrite')\n"
   ]
  },
  {
   "cell_type": "code",
   "execution_count": null,
   "id": "82ef2430-57f2-42f4-a435-f50e1edd2c0b",
   "metadata": {
    "tags": []
   },
   "outputs": [],
   "source": [
    "#8 stop spark\n",
    "SinaraSpark.stop_session()"
   ]
  },
  {
   "cell_type": "code",
   "execution_count": null,
   "id": "7a846bff-ddbe-4eb5-846c-7f31136715cd",
   "metadata": {
    "tags": []
   },
   "outputs": [],
   "source": [
    "!ls {tmp_entities.tmp_entity_1}"
   ]
  },
  {
   "cell_type": "code",
   "execution_count": null,
   "id": "1fb15806-dddd-49f6-a0d8-5449b5638da4",
   "metadata": {
    "tags": []
   },
   "outputs": [],
   "source": [
    "!ls {tmp_entities.tmp_entity_2}"
   ]
  },
  {
   "cell_type": "code",
   "execution_count": null,
   "id": "63d06f6e-45b5-4ea3-a620-847e312ddb12",
   "metadata": {
    "tags": []
   },
   "outputs": [],
   "source": [
    "!ls {tmp_entities.tmp_entity_3}"
   ]
  },
  {
   "cell_type": "code",
   "execution_count": null,
   "id": "66ef3fea-7144-48de-8926-6bd2a5f685d7",
   "metadata": {},
   "outputs": [],
   "source": []
  }
 ],
 "metadata": {
  "kernelspec": {
   "display_name": "ml",
   "language": "python",
   "name": "python3"
  },
  "language_info": {
   "codemirror_mode": {
    "name": "ipython",
    "version": 3
   },
   "file_extension": ".py",
   "mimetype": "text/x-python",
   "name": "python",
   "nbconvert_exporter": "python",
   "pygments_lexer": "ipython3",
   "version": "3.10.12"
  }
 },
 "nbformat": 4,
 "nbformat_minor": 5
}
