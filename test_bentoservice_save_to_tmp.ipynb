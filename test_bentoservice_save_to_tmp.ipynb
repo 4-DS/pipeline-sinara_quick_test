{
 "cells": [
  {
   "cell_type": "code",
   "execution_count": null,
   "id": "870a1090-f4ae-45a0-aa93-0960f5c6478d",
   "metadata": {},
   "outputs": [],
   "source": [
    "%load_ext autoreload\n",
    "%autoreload 2"
   ]
  },
  {
   "cell_type": "code",
   "execution_count": null,
   "id": "453c78e8-6822-4123-bf9d-ed1ae9dd7bea",
   "metadata": {
    "tags": [
     "parameters"
    ]
   },
   "outputs": [],
   "source": [
    "# Specify sub_step parameters\n",
    "substep_params={\n",
    "    \"param1\":\"None1\",\n",
    "    \"param2\":\"None2\"}"
   ]
  },
  {
   "cell_type": "code",
   "execution_count": null,
   "id": "69527d6d-8d66-4984-9be8-d57faf09874c",
   "metadata": {},
   "outputs": [],
   "source": [
    "# load pipeline and step parameters - do not edit\n",
    "from sinara.substep import get_pipeline_params, get_step_params\n",
    "pipeline_params = get_pipeline_params(pprint=True)\n",
    "step_params = get_step_params(pprint=True)"
   ]
  },
  {
   "cell_type": "code",
   "execution_count": null,
   "id": "f3818420-6085-43ea-b97e-578742794e1e",
   "metadata": {
    "tags": []
   },
   "outputs": [],
   "source": [
    "#3 define substep interface\n",
    "from sinara.substep import NotebookSubstep, ENV_NAME, PIPELINE_NAME, ZONE_NAME, STEP_NAME, RUN_ID, ENTITY_NAME, ENTITY_PATH, SUBSTEP_NAME\n",
    "\n",
    "substep = NotebookSubstep(pipeline_params, step_params, substep_params)\n",
    "\n",
    "substep.interface(\n",
    "    \n",
    "    outputs = \n",
    "    [\n",
    "        { ENTITY_NAME: \"bento_service\" }\n",
    "    ],\n",
    "    \n",
    "    tmp_outputs =\n",
    "    [\n",
    "        { ENTITY_NAME: \"some_model_binary_artifact\" }\n",
    "    ]\n",
    "\n",
    ")\n",
    "\n",
    "substep.print_interface_info()\n",
    "\n",
    "substep.exit_in_visualize_mode()"
   ]
  },
  {
   "cell_type": "code",
   "execution_count": null,
   "id": "55e950c3-3151-4daf-9b98-83d3aebe216d",
   "metadata": {},
   "outputs": [],
   "source": [
    "# Train\n",
    "from sklearn import svm\n",
    "from sklearn import datasets\n",
    "from bentoservice import TestService\n",
    "\n",
    "clf = svm.SVC(gamma='scale')\n",
    "iris = datasets.load_iris()\n",
    "X, y = iris.data, iris.target\n",
    "clf.fit(X, y)\n",
    "\n",
    "# Create a iris classifier service with the newly trained model\n",
    "test_service = TestService()\n",
    "test_service.pack(\"model\", clf)\n",
    "test_service.pack(\"some_model_binary_artifact\", b\"model_37\")"
   ]
  },
  {
   "cell_type": "code",
   "execution_count": null,
   "id": "7874f0da-08d1-43a9-b331-e4c626b02046",
   "metadata": {},
   "outputs": [],
   "source": [
    "# Test model API\n",
    "from sinara.bentoml import start_dev_bentoservice, stop_dev_bentoservice\n",
    "\n",
    "# Test invoking BentoService instance\n",
    "test_service.predict([[5.1, 3.5, 1.4, 0.2]])\n",
    "\n",
    "# Start a dev model server to test out the API endpoint locally\n",
    "start_dev_bentoservice(test_service)\n",
    "\n",
    "# Stop the dev model server\n",
    "stop_dev_bentoservice(test_service)"
   ]
  },
  {
   "cell_type": "code",
   "execution_count": null,
   "id": "7b54e21e-d0a2-428a-8829-880383e244bf",
   "metadata": {
    "tags": []
   },
   "outputs": [],
   "source": [
    "# Serve model\n",
    "from sinara.bentoml import save_bentoservice\n",
    "\n",
    "outputs = substep.outputs()\n",
    "\n",
    "# Save the entire prediction service to a BentoML bundle\n",
    "save_bentoservice(test_service, path=outputs.bento_service, substep=substep)"
   ]
  },
  {
   "cell_type": "code",
   "execution_count": null,
   "id": "f762ca15-0fe9-49d6-97aa-58007b9031ec",
   "metadata": {
    "tags": []
   },
   "outputs": [],
   "source": [
    "# Load model and save model's artifacts to tmp\n",
    "from sinara.bentoml import load_bentoservice, save_bentoartifact_to_tmp\n",
    "\n",
    "tmp_outputs = substep.tmp_outputs()\n",
    "\n",
    "# read trained model    \n",
    "bento_service = load_bentoservice(outputs.bento_service) \n",
    "\n",
    "# save model's artifact for evaluation\n",
    "save_bentoartifact_to_tmp(bento_service, \"some_model_binary_artifact\", tmp_outputs.some_model_binary_artifact)"
   ]
  }
 ],
 "metadata": {
  "kernelspec": {
   "display_name": "ml",
   "language": "python",
   "name": "python3"
  },
  "language_info": {
   "codemirror_mode": {
    "name": "ipython",
    "version": 3
   },
   "file_extension": ".py",
   "mimetype": "text/x-python",
   "name": "python",
   "nbconvert_exporter": "python",
   "pygments_lexer": "ipython3",
   "version": "3.10.12"
  }
 },
 "nbformat": 4,
 "nbformat_minor": 5
}
