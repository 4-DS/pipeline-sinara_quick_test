{
 "cells": [
  {
   "cell_type": "markdown",
   "id": "a76cef49-bacd-4cad-9d65-92b9b613c4dc",
   "metadata": {},
   "source": [
    "# Install libs"
   ]
  },
  {
   "cell_type": "code",
   "execution_count": null,
   "id": "4842c7be-a42a-48f3-9d46-6fa0046bcf26",
   "metadata": {},
   "outputs": [],
   "source": [
    "!pip3 install parameterized pytest"
   ]
  },
  {
   "cell_type": "markdown",
   "id": "36f49a05-26a6-4b08-b909-a769940653b2",
   "metadata": {},
   "source": [
    "# Test all base"
   ]
  },
  {
   "cell_type": "code",
   "execution_count": null,
   "id": "2d3a36fe-e039-4e3e-a3d4-96cede735eeb",
   "metadata": {},
   "outputs": [],
   "source": [
    "!python -m pytest simple_onnx"
   ]
  },
  {
   "cell_type": "code",
   "execution_count": null,
   "id": "f829c549-64f3-4a9c-9aae-988fefaa8fc3",
   "metadata": {},
   "outputs": [],
   "source": [
    "# fix for local testing, without git clone\n",
    "# https://github.com/open-mmlab/mmdetection/blob/main/mmdet/testing/_utils.py#L17\n",
    "\n",
    "import mmdet\n",
    "import os\n",
    "import os.path as osp\n",
    "from pathlib import Path\n",
    "\n",
    "mmdet_config_dir = osp.join(osp.dirname(mmdet.__file__), \".mim\", \"configs\")\n",
    "mmdet_config_dir_without_mim = osp.join(osp.dirname(mmdet.__file__), \"..\", \"configs\")\n",
    "# !ln -s {mmdet_config_dir} {mmdet_config_dir_without_mim}\n",
    "os.remove(mmdet_config_dir_without_mim)\n",
    "Path(mmdet_config_dir_without_mim).symlink_to(mmdet_config_dir)\n",
    "\n",
    "mmdet_model_index = osp.join(osp.dirname(mmdet.__file__), \".mim\", \"model-index.yml\")\n",
    "mmdet_model_index_without_mim = osp.join(osp.dirname(mmdet.__file__), \"..\", \"model-index.yml\")\n",
    "# !ln -s {mmdet_model_index} {mmdet_model_index_without_mim}\n",
    "os.remove(mmdet_model_index_without_mim)\n",
    "Path(mmdet_model_index_without_mim).symlink_to(mmdet_model_index)"
   ]
  },
  {
   "cell_type": "code",
   "execution_count": null,
   "id": "1c5b41c4-cffb-49b5-8feb-8956e7830824",
   "metadata": {},
   "outputs": [],
   "source": [
    "!python -m pytest mmdet_tests"
   ]
  },
  {
   "cell_type": "code",
   "execution_count": null,
   "id": "ec176e6b-52b2-47c9-a838-89934a91070a",
   "metadata": {},
   "outputs": [],
   "source": [
    "!python -m pytest mmdeploy_tests"
   ]
  },
  {
   "cell_type": "code",
   "execution_count": null,
   "id": "e744d7da-eed0-42d5-8825-d37ab57e1fa0",
   "metadata": {},
   "outputs": [],
   "source": [
    "!python -m pytest onnxruntime_tests/*"
   ]
  },
  {
   "cell_type": "markdown",
   "id": "cd60568a-9db3-46cd-bd6d-5ae375ce21c8",
   "metadata": {},
   "source": [
    "# FOR EXP ONLY"
   ]
  },
  {
   "cell_type": "code",
   "execution_count": null,
   "id": "e5ef9a48-ac76-41b5-b373-d78c5bd24cec",
   "metadata": {},
   "outputs": [],
   "source": [
    "!python -m pytest mmsegmentation_tests"
   ]
  },
  {
   "cell_type": "code",
   "execution_count": null,
   "id": "419a48db-1737-4305-bcd8-0de8ca6a2195",
   "metadata": {},
   "outputs": [],
   "source": [
    "!python -m pytest mmocr_tests"
   ]
  },
  {
   "cell_type": "code",
   "execution_count": null,
   "id": "c2c1f755-6eee-496c-bc43-345583384f5c",
   "metadata": {},
   "outputs": [],
   "source": [
    "!python -m pytest mmpose_test"
   ]
  },
  {
   "cell_type": "code",
   "execution_count": null,
   "id": "e4dce02f-3df3-4853-9f09-823f18b09af5",
   "metadata": {},
   "outputs": [],
   "source": []
  }
 ],
 "metadata": {
  "kernelspec": {
   "display_name": "cv",
   "language": "python",
   "name": "python3"
  },
  "language_info": {
   "codemirror_mode": {
    "name": "ipython",
    "version": 3
   },
   "file_extension": ".py",
   "mimetype": "text/x-python",
   "name": "python",
   "nbconvert_exporter": "python",
   "pygments_lexer": "ipython3",
   "version": "3.10.12"
  }
 },
 "nbformat": 4,
 "nbformat_minor": 5
}
